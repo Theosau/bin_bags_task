{
 "cells": [
  {
   "cell_type": "markdown",
   "metadata": {},
   "source": [
    "# This file detects the bags on the images based on the difference in pixel values between images with bags and ones with the background only "
   ]
  },
  {
   "cell_type": "markdown",
   "metadata": {},
   "source": [
    "### The regions detected with the bags are then extracted from the image and reshaped into a 50x50x3 image to have a homogeneous sized images for each bag.\n",
    "### These will then be used to perform classification."
   ]
  },
  {
   "cell_type": "code",
   "execution_count": 1,
   "metadata": {},
   "outputs": [],
   "source": [
    "import os\n",
    "import cv2\n",
    "import imutils\n",
    "import numpy as np\n",
    "from imutils import contours\n",
    "from skimage import measure\n",
    "from matplotlib import pyplot as plt"
   ]
  },
  {
   "cell_type": "code",
   "execution_count": 4,
   "metadata": {},
   "outputs": [],
   "source": [
    "# Create directories to save the images\n",
    "root = os.getcwd()\n",
    "path_to_bags = os.path.join(root, 'data/bin_bag_test')\n",
    "os.mkdir('data/processed_bags/')\n",
    "path_to_processed = os.path.join(root, 'data/processed_bags')\n",
    "os.chdir(path_to_bags)"
   ]
  },
  {
   "cell_type": "code",
   "execution_count": 5,
   "metadata": {},
   "outputs": [],
   "source": [
    "#Create a dictionary with keys the three types of bags. For each bag, the dictionary holds the list of\n",
    "# the path to images with bags of this type, list to the npy files, list to the background images.\n",
    "\n",
    "full_paths, images, files, images_bckg = {}, [], [], []\n",
    "init_dict = {'images':None, 'files':None, 'background':None}\n",
    "bags = {'general_waste', 'mixed_recycling', 'green_sack'}\n",
    "\n",
    "for bag in bags:\n",
    "    full_paths[bag] = init_dict\n",
    "    try:\n",
    "        os.mkdir(os.path.join(path_to_processed, bag))\n",
    "    except:\n",
    "        pass\n",
    "\n",
    "for bag in bags:\n",
    "    # Getting the images paths\n",
    "    images = [os.path.join(bag, file) for file in os.listdir(os.path.join(path_to_bags, bag)) \\\n",
    "                if file.split('.')[-1] == 'jpg' and file.split('.')[0][0].isnumeric()]\n",
    "    images = sorted(images, key=lambda x: int(x.split('.')[-2].split('/')[-1]))\n",
    "\n",
    "    # Getting the npy files paths\n",
    "    files = [os.path.join(bag, file) for file in os.listdir(os.path.join(path_to_bags, bag)) \\\n",
    "                if file.split('.')[-1] == 'npy' and file.split('.')[0][0].isnumeric()]\n",
    "    files = sorted(files, key=lambda x: int(x.split('.')[-2].split('/')[-1]))\n",
    "    \n",
    "    # Getting the background images paths\n",
    "    images_bckg = [os.path.join(bag, file) for file in os.listdir(os.path.join(path_to_bags, bag)) \\\n",
    "                if file.split('.')[-1] == 'jpg' and file.split('.')[0][0].isalpha()]\n",
    "    \n",
    "    dict_bag = {'images':images, 'files':files, 'background':images_bckg}\n",
    "    full_paths[bag] = dict_bag"
   ]
  },
  {
   "cell_type": "code",
   "execution_count": 20,
   "metadata": {},
   "outputs": [],
   "source": [
    "def compare_image_background(image_num, background_num, full_paths, bag='general_waste', blur=False):\n",
    "    '''This funciton serves to detect the bags on the images (there could be multiple bags) and \n",
    "    saves the region where the bag is found resized as a 50x50x3 pixel image.\n",
    "    input:\n",
    "        - image_num, int, image number\n",
    "        - background_num, int, type of background between the images given. Median, Median dark, Median light\n",
    "        - bag, str, type of bag of interest\n",
    "        - blur, bool, gaussain blur on the image or not\n",
    "    output:\n",
    "        - saved images in the processed_bags file of the detected bags, resized in 50x50x3 to have homogeneous image sizes to perform \n",
    "        classification.'''\n",
    "    \n",
    "    \n",
    "    # get paths for the images and background images\n",
    "    image_paths = full_paths[bag]['images']\n",
    "    background_paths = full_paths[bag]['background']\n",
    "    \n",
    "    # get images array\n",
    "    image_untouched = cv2.imread(os.path.join(path_to_bags, image_paths[image_num]))\n",
    "    image = image_untouched\n",
    "    background = cv2.imread(os.path.join(path_to_bags, background_paths[background_num]))\n",
    "    \n",
    "    # adding Gaussian blur\n",
    "    if blur:\n",
    "        image = cv2.GaussianBlur(image, (3, 3), 0)\n",
    "        background = cv2.GaussianBlur(background, (3, 3), 0)\n",
    "    \n",
    "    # change arrays type to allow for sum without numerical overflow\n",
    "    image_type = np.array(image, dtype=np.int16)\n",
    "    background_type = np.array(background, dtype=np.int16)\n",
    "    \n",
    "    # get differences between the image with a bag and the background image\n",
    "    diff_type = image_type - background_type\n",
    "    diff_type = diff_type.sum(axis = 2)\n",
    "    \n",
    "    # set the image to a binary mask, where the difference in greater than the threshold or not\n",
    "    mask = diff_type >= 80\n",
    "    test = diff_type\n",
    "    test[mask] = 255\n",
    "    test[~mask]=0\n",
    "    \n",
    "    # processing step to separate and join the noisy binary regions detected\n",
    "    test = cv2.erode(np.uint8(test), None, iterations=1)\n",
    "    test = cv2.dilate(test, None, iterations=4)\n",
    "\n",
    "    # find the number of different bags on the binary image representation built\n",
    "    # group pixels that have the same value\n",
    "    labels = measure.label(test, connectivity=2, background=0)\n",
    "    mask = np.zeros(test.shape, dtype=\"uint8\")\n",
    "    \n",
    "    # loop over the unique components\n",
    "    for label in np.unique(labels):\n",
    "        # ignore background\n",
    "        if label == 0:\n",
    "            continue\n",
    "\n",
    "        # construct the unique label mask and count pixels\n",
    "        labelMask = np.zeros(test.shape, dtype=\"uint8\")\n",
    "        labelMask[labels == label] = 255\n",
    "        numPixels = cv2.countNonZero(labelMask)\n",
    "        \n",
    "        # keep only large regions to remove noise\n",
    "        if numPixels > 10000:\n",
    "            mask = cv2.add(mask, labelMask)\n",
    "            \n",
    "    # find the contours in the mask, and sort them from left to right\n",
    "    cnts = cv2.findContours(mask.copy(), cv2.RETR_EXTERNAL,\n",
    "        cv2.CHAIN_APPROX_SIMPLE)\n",
    "    cnts = imutils.grab_contours(cnts)\n",
    "    cnts = contours.sort_contours(cnts)[0]\n",
    "    \n",
    "    # set list for the different bags found\n",
    "    bag_regions = []\n",
    "    \n",
    "    # loop over the contours\n",
    "    for (i, c) in enumerate(cnts):\n",
    "        \n",
    "        # get bounding rectangles around detected contours\n",
    "        (x, y, w, h) = cv2.boundingRect(c)\n",
    "        start_point = (x, y)\n",
    "        end_point = (x+w, y+h)\n",
    "        bag_regions.append(image_untouched[y:y+h, x:x+w])\n",
    "        \n",
    "        # resize the rectangle to have images of the same size for each bag\n",
    "        h, w, _ = bag_regions[-1].shape\n",
    "        if h >= w:\n",
    "            size_h = 50\n",
    "            size_w = int(2*((size_h*w/h)//2))\n",
    "            shift = (50 - size_w)//2\n",
    "        else:\n",
    "            size_w = 50\n",
    "            size_h = int(2*((size_w*h/w)//2))\n",
    "            shift = (50 - size_h)//2\n",
    "            \n",
    "        size = (size_w, size_h)\n",
    "        resized = cv2.resize(bag_regions[-1], size)\n",
    "        resized_fixed_shape = np.zeros((50, 50, 3), dtype=\"uint8\")\n",
    "        \n",
    "        # center the bag on the image\n",
    "        if size_h == 50:\n",
    "            resized_fixed_shape[:, shift:-shift, :] = resized\n",
    "        else:\n",
    "            resized_fixed_shape[shift:-shift, :, :] = resized\n",
    "        \n",
    "        # create new path and save imge\n",
    "        path = os.path.join(path_to_processed, f'{bag}')\n",
    "        cv2.imwrite(os.path.join(path, f'{image_num}.jpg'), resized_fixed_shape)\n",
    "        \n",
    "        # show the image of the detected bag\n",
    "        plt.imshow(resized_fixed_shape[:,:,[2, 1, 0]])\n",
    "\n",
    "    return"
   ]
  },
  {
   "cell_type": "code",
   "execution_count": 21,
   "metadata": {},
   "outputs": [
    {
     "data": {
      "image/png": "[encoded data removed]",
      "text/plain": [
       "<Figure size 432x288 with 1 Axes>"
      ]
     },
     "metadata": {
      "needs_background": "light"
     },
     "output_type": "display_data"
    }
   ],
   "source": [
    "# Detect and save the bag images\n",
    "for bag in bags:\n",
    "    for index in range(len(full_paths[bag]['images'])):\n",
    "        compare_image_background(index, 0, full_paths, bag=bag, blur=False)"
   ]
  }
 ],
 "metadata": {
  "kernelspec": {
   "display_name": "Python 3",
   "language": "python",
   "name": "python3"
  },
  "language_info": {
   "codemirror_mode": {
    "name": "ipython",
    "version": 3
   },
   "file_extension": ".py",
   "mimetype": "text/x-python",
   "name": "python",
   "nbconvert_exporter": "python",
   "pygments_lexer": "ipython3",
   "version": "3.7.6"
  }
 },
 "nbformat": 4,
 "nbformat_minor": 4
}
